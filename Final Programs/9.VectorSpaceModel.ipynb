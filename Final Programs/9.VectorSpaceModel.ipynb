{
 "cells": [
  {
   "cell_type": "markdown",
   "id": "f8c7c682",
   "metadata": {},
   "source": [
    "# Vector Space Model"
   ]
  },
  {
   "cell_type": "code",
   "execution_count": null,
   "id": "89e483c7",
   "metadata": {},
   "outputs": [],
   "source": [
    "import numpy as np\n",
    "import collections as c\n",
    "import copy as cp"
   ]
  },
  {
   "cell_type": "code",
   "execution_count": null,
   "id": "15fd1dbd",
   "metadata": {},
   "outputs": [],
   "source": [
    "#s=input(\"Enter file names:\").split()\n",
    "s=['DocE1.txt','DocE2.txt' ,'DocE3.txt','DocE4.txt']\n",
    "d=cp.deepcopy(s)\n",
    "x=[]\n",
    "for i in s:\n",
    "    f=open(i,'r').read().split()\n",
    "    x.append(f)\n",
    "y=sorted(set(sum(x,[])))"
   ]
  },
  {
   "cell_type": "code",
   "execution_count": null,
   "id": "158daf00",
   "metadata": {},
   "outputs": [],
   "source": [
    "tcm=[]\n",
    "for i in range(len(s)):\n",
    "    m=[]\n",
    "    freq=c.Counter(x[i])\n",
    "    for j in y:\n",
    "        if j in x[i]:\n",
    "            m.append(freq[j])\n",
    "        else:\n",
    "            m.append(0)\n",
    "    tcm.append(m)"
   ]
  },
  {
   "cell_type": "code",
   "execution_count": null,
   "id": "3a94dace",
   "metadata": {},
   "outputs": [],
   "source": [
    "tf=[]\n",
    "for i in tcm:\n",
    "    temp=[]\n",
    "    for j in i:\n",
    "        if j!=0:\n",
    "            temp.append(round(1+np.log(j),2))\n",
    "        else:\n",
    "            temp.append(0)\n",
    "    tf.append(temp)\n"
   ]
  },
  {
   "cell_type": "code",
   "execution_count": 1,
   "id": "6353ae3b",
   "metadata": {},
   "outputs": [
    {
     "data": {
      "text/plain": [
       "[[1.4489999999999998, 0.609, 0.0],\n",
       " [0.0, 0.0, 0.0],\n",
       " [0.0, 0.4900999999999999, 0.0],\n",
       " [1.4489999999999998, 0.29, 0.0]]"
      ]
     },
     "execution_count": 1,
     "metadata": {},
     "output_type": "execute_result"
    }
   ],
   "source": [
    "idf=[]\n",
    "for i in y:\n",
    "    n=0\n",
    "    for j in range(len(d)):\n",
    "        if i in x[j]:\n",
    "            n+=1\n",
    "    if n!=0:\n",
    "        idf.append(round(np.log(len(d)/n),2))\n",
    "    else:\n",
    "        idf.append(0)\n",
    "\n",
    "tf_idf=[]\n",
    "for i in tf:\n",
    "    temp=[]\n",
    "    for j in range(len(i)):\n",
    "        tfidf=i[j]*idf[j]\n",
    "        temp.append(tfidf)\n",
    "    tf_idf.append(temp)\n",
    "tf_idf"
   ]
  }
 ],
 "metadata": {
  "kernelspec": {
   "display_name": "Python 3 (ipykernel)",
   "language": "python",
   "name": "python3"
  },
  "language_info": {
   "codemirror_mode": {
    "name": "ipython",
    "version": 3
   },
   "file_extension": ".py",
   "mimetype": "text/x-python",
   "name": "python",
   "nbconvert_exporter": "python",
   "pygments_lexer": "ipython3",
   "version": "3.11.5"
  }
 },
 "nbformat": 4,
 "nbformat_minor": 5
}
