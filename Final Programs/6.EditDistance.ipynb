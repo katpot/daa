{
 "cells": [
  {
   "cell_type": "markdown",
   "id": "815911c1",
   "metadata": {},
   "source": [
    "# Correcting spellings in the query using edit distance"
   ]
  },
  {
   "cell_type": "code",
   "execution_count": null,
   "id": "6d51fe5d",
   "metadata": {},
   "outputs": [],
   "source": [
    "import numpy as np\n",
    "import collections as c\n",
    "import copy as cp"
   ]
  },
  {
   "cell_type": "code",
   "execution_count": null,
   "id": "0ece4b31",
   "metadata": {},
   "outputs": [],
   "source": [
    "# s=input(\"Enter file names:\").split()\n",
    "s=['doc5.txt','doc6.txt' ,'doc7.txt']\n",
    "d=cp.deepcopy(s)\n",
    "x=[]\n",
    "for i in s:\n",
    "    f=open(i,'r').read().split()\n",
    "    x.append(f)\n",
    "y=sorted(set(sum(x,[])))\n",
    "print(y)  "
   ]
  },
  {
   "cell_type": "code",
   "execution_count": 18,
   "id": "2e61d5df",
   "metadata": {},
   "outputs": [
    {
     "name": "stdout",
     "output_type": "stream",
     "text": [
      "['and', 'for', 'me', 'tea', 'two', 'you']\n",
      "Enter query:twwo yuu mm\n",
      "['two', 'you', 'me']\n",
      "\t\t t \tw \tw \to \t\n",
      "\n",
      "\t0 \t1 \t2 \t3 \t4 \t\n",
      "\n",
      "t \t1 \t0 \t1 \t2 \t3 \t\n",
      "\n",
      "w \t2 \t1 \t0 \t1 \t2 \t\n",
      "\n",
      "o \t3 \t2 \t1 \t1 \t1 \t\n",
      "\n",
      "Edit Distance= 1\n",
      "\t\t y \tu \tu \t\n",
      "\n",
      "\t0 \t1 \t2 \t3 \t\n",
      "\n",
      "y \t1 \t0 \t1 \t2 \t\n",
      "\n",
      "o \t2 \t1 \t1 \t2 \t\n",
      "\n",
      "u \t3 \t2 \t1 \t1 \t\n",
      "\n",
      "Edit Distance= 1\n",
      "\t\t m \tm \t\n",
      "\n",
      "\t0 \t1 \t2 \t\n",
      "\n",
      "m \t1 \t0 \t1 \t\n",
      "\n",
      "e \t2 \t1 \t1 \t\n",
      "\n",
      "Edit Distance= 1\n"
     ]
    }
   ],
   "source": [
    "def findDis(a,b):\n",
    "    alen=len(a)+1\n",
    "    blen=len(b)+1\n",
    "    m=[[0 for i in range(alen)] for j in range(blen)]\n",
    "    for i in range(1,alen):\n",
    "        m[0][i]=i\n",
    "    for j in range(1,blen):\n",
    "        m[j][0]=j\n",
    "    for j in range(1,alen):\n",
    "        for i in range(1,blen):\n",
    "            if a[j-1]==b[i-1]:\n",
    "                f=0\n",
    "            else:\n",
    "                f=1\n",
    "            one=m[i-1][j-1]+f\n",
    "            two=m[i-1][j]+1\n",
    "            three=m[i][j-1]+1\n",
    "            m[i][j]=min(one,two,three)\n",
    "    return m\n",
    "def printvals(a,b):\n",
    "    c=findDis(a,b)\n",
    "    l=a.split()\n",
    "    print(\"\\t\\t\",end=' ')\n",
    "    for k in range(len(a)):\n",
    "        print(a[k],\"\\t\",end='')\n",
    "    print(\"\\n\")\n",
    "    for i in range(len(c)):\n",
    "        if i==0:\n",
    "            print('\\t',end='')\n",
    "        if i>0:\n",
    "            print(b[i-1],'\\t',end='')\n",
    "        for j in range(len(c[0])):\n",
    "            print(c[i][j],'\\t' ,end='')\n",
    "        print(\"\\n\")\n",
    "    print(\"Edit Distance=\",c[-1][-1])\n",
    "    return \n",
    "q = input(\"Enter query:\").split()\n",
    "w=cp.deepcopy(q)\n",
    "for i in range(len(q)):\n",
    "    dis=999\n",
    "    if q[i] not in y:\n",
    "        for j in y:\n",
    "            m=findDis(q[i],j)\n",
    "            val=m[-1][-1]\n",
    "            if val < dis :\n",
    "                w[i]=j\n",
    "                dis=val            \n",
    "print(w)\n",
    "for i in range(len(q)):\n",
    "    if w[i]!=q[i]:\n",
    "        printvals(q[i],w[i])"
   ]
  }
 ],
 "metadata": {
  "kernelspec": {
   "display_name": "Python 3 (ipykernel)",
   "language": "python",
   "name": "python3"
  },
  "language_info": {
   "codemirror_mode": {
    "name": "ipython",
    "version": 3
   },
   "file_extension": ".py",
   "mimetype": "text/x-python",
   "name": "python",
   "nbconvert_exporter": "python",
   "pygments_lexer": "ipython3",
   "version": "3.11.5"
  }
 },
 "nbformat": 4,
 "nbformat_minor": 5
}
