{
 "cells": [
  {
   "cell_type": "markdown",
   "id": "ef3cef3e",
   "metadata": {},
   "source": [
    "# Importing Modules"
   ]
  },
  {
   "cell_type": "code",
   "execution_count": 21,
   "id": "59f94d3d",
   "metadata": {},
   "outputs": [],
   "source": [
    "import re"
   ]
  },
  {
   "cell_type": "markdown",
   "id": "b980ad4e",
   "metadata": {},
   "source": [
    "# index construction"
   ]
  },
  {
   "cell_type": "code",
   "execution_count": 20,
   "id": "92920478",
   "metadata": {},
   "outputs": [
    {
     "name": "stdout",
     "output_type": "stream",
     "text": [
      "Enter file names:doc1.txt doc2.txt doc3.txt doc4.txt\n",
      "{'a': {2: [6], 4: [0, 5]}, 'and': {1: [1, 4], 2: [2], 3: [6], 4: [4, 11]}, 'beautiful': {1: [8]}, 'bond': {2: [7]}, 'create': {4: [8]}, 'flow': {3: [1]}, 'ideas': {3: [7]}, 'ink': {1: [3], 4: [10]}, 'make': {1: [6]}, 'meet': {2: [4]}, 'on': {3: [3]}, 'out': {3: [2]}, 'paper': {1: [2], 2: [3], 3: [5]}, 'pen': {1: [0], 2: [1], 3: [12]}, 'shape': {3: [9]}, 'sheet': {1: [5], 4: [12]}, 'so': {2: [8]}, 'story': {4: [1]}, 'such': {1: [7]}, 'sweet': {2: [9]}, 'take': {3: [8]}, 'tell': {4: [3]}, 'the': {3: [4, 11]}, 'things': {1: [9]}, 'to': {4: [2, 7]}, 'together': {2: [0]}, 'with': {2: [5], 3: [10], 4: [9]}, 'words': {3: [0]}, 'world': {4: [6]}}\n"
     ]
    }
   ],
   "source": [
    "\n",
    "s=input(\"Enter file names:\").split() #file names(s)\n",
    "# s=['doc1.txt','doc2.txt' ,'doc3.txt', 'doc4.txt']\n",
    "x=[]#file content \n",
    "for i in s:\n",
    "    file = re.sub(\"[^a-z0-9]\",\" \",open(i,'r').read().lower()).split()\n",
    "    x.append(file)\n",
    "y=sorted(set(sum(x,[])))#terms\n",
    "\n",
    "d={}#parent dictionary\n",
    "for i in y:\n",
    "    m={} # temporary list\n",
    "    for j in range(len(s)):\n",
    "        l=[] #list to hold document id\n",
    "        if i in x[j]:\n",
    "            l.append(j+1)\n",
    "            ind=[] #indexes of the term that appeared in document\n",
    "            for k in range(len(x[j])): #k is the required index\n",
    "                if i==x[j][k]:\n",
    "                    ind.append(k)\n",
    "            m[l[0]]=ind   \n",
    "    d[i]=m #placing the list as the value for the term in  the dictionary\n",
    "print(d)"
   ]
  },
  {
   "cell_type": "markdown",
   "id": "2cba00b5",
   "metadata": {},
   "source": [
    "# query evaluation"
   ]
  },
  {
   "cell_type": "code",
   "execution_count": 22,
   "id": "25c50057",
   "metadata": {},
   "outputs": [],
   "source": [
    "def QueryEval(query,d,rel_doc):\n",
    "    if len(rel_doc) == 1:\n",
    "        return rel_doc[0]\n",
    "    \n",
    "    comm_doc = rel_doc[0]\n",
    "    for i in rel_doc:\n",
    "        comm_doc = comm_doc.intersection(i)\n",
    "    result = set()\n",
    "    for i in comm_doc:\n",
    "        z =[]  # storing of temporary result\n",
    "        for j in range(len(query)-1):\n",
    "            if(z == []):\n",
    "                l1 = d[query[j]][i]\n",
    "            else:\n",
    "                l1 = z\n",
    "            l2 = d[query[j+1]][i]\n",
    "            x = 0;y = 0\n",
    "            len1 = len(l1)-1;len2 = len(l2)-1\n",
    "            while(x<=len1 and y<=len2):\n",
    "                if l1[x]+1 == l2[y]:\n",
    "                    z.append(l2[y])\n",
    "                    x+=1\n",
    "                    y+=1\n",
    "                elif l1[x]+1 < l2[y]:\n",
    "                    x+=1\n",
    "                else:\n",
    "                    y+=1\n",
    "            if(len(z) == len(query)-1):\n",
    "                result.add(i)\n",
    "                break\n",
    "    return result"
   ]
  },
  {
   "cell_type": "markdown",
   "id": "7566e1c8",
   "metadata": {},
   "source": [
    "# query reading"
   ]
  },
  {
   "cell_type": "code",
   "execution_count": 24,
   "id": "71fca7dd",
   "metadata": {},
   "outputs": [
    {
     "name": "stdout",
     "output_type": "stream",
     "text": [
      "Enter the phrase : Ideas take shape\n",
      "relevant document ids :  {3}\n"
     ]
    }
   ],
   "source": [
    "query = input(\"Enter the phrase : \").lower().split()\n",
    "rel_doc = []\n",
    "for i in query:\n",
    "    if i in d.keys():\n",
    "        rel_doc.append(set(d[i].keys()))\n",
    "    else:\n",
    "        print(\"No relevant documents\")\n",
    "        break\n",
    "else:\n",
    "    resultDoc = QueryEval(query,d,rel_doc)\n",
    "    if(len(resultDoc) == 0):\n",
    "        print(\"No relevant documents\")\n",
    "    else:\n",
    "        print(\"relevant document ids : \",resultDoc)"
   ]
  }
 ],
 "metadata": {
  "kernelspec": {
   "display_name": "Python 3 (ipykernel)",
   "language": "python",
   "name": "python3"
  },
  "language_info": {
   "codemirror_mode": {
    "name": "ipython",
    "version": 3
   },
   "file_extension": ".py",
   "mimetype": "text/x-python",
   "name": "python",
   "nbconvert_exporter": "python",
   "pygments_lexer": "ipython3",
   "version": "3.11.5"
  }
 },
 "nbformat": 4,
 "nbformat_minor": 5
}
