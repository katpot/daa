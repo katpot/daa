{
 "cells": [
  {
   "cell_type": "markdown",
   "metadata": {},
   "source": [
    "# Importing Modules"
   ]
  },
  {
   "cell_type": "code",
   "execution_count": 1,
   "metadata": {},
   "outputs": [],
   "source": [
    "import numpy as np\n",
    "import re"
   ]
  },
  {
   "cell_type": "markdown",
   "metadata": {},
   "source": [
    "# Construction of Matrix"
   ]
  },
  {
   "cell_type": "code",
   "execution_count": 2,
   "metadata": {},
   "outputs": [],
   "source": [
    "def termIncidenceMatrix(l,n):\n",
    "    docs = []\n",
    "    terms = set()\n",
    "\n",
    "    for i in l:\n",
    "        file = open(i,'r').read().lower()\n",
    "        content = re.sub(\"[^a-z0-9]\",\" \",file).split()\n",
    "        terms.update(content)\n",
    "        docs.append(set(content))\n",
    "\n",
    "    mat = np.zeros((len(terms),n),dtype=bool)\n",
    "    terms = sorted(terms)\n",
    "    for i in range(len(terms)):\n",
    "        for j in range(n):\n",
    "            if terms[i] in docs[j]:\n",
    "                mat[i][j] = 1\n",
    "                \n",
    "            else:\n",
    "                mat[i][j] = 0\n",
    "    return mat,terms"
   ]
  },
  {
   "cell_type": "markdown",
   "metadata": {},
   "source": [
    "# Postfix Building"
   ]
  },
  {
   "cell_type": "code",
   "execution_count": 3,
   "metadata": {},
   "outputs": [],
   "source": [
    "def precedence(op):\n",
    "    if op == 'NOT':\n",
    "        return 3\n",
    "    elif op == 'AND':\n",
    "        return 2\n",
    "    elif op == 'OR':\n",
    "        return 1\n",
    "    else:\n",
    "        return 0"
   ]
  },
  {
   "cell_type": "code",
   "execution_count": 4,
   "metadata": {},
   "outputs": [],
   "source": [
    "def postfix(l):\n",
    "    pf = []\n",
    "    stack = []\n",
    "    opList = ['AND','OR','NOT']\n",
    "    for i in l:\n",
    "        if i in opList:\n",
    "            if stack == []:\n",
    "                stack.append(i)\n",
    "            else:\n",
    "                while(stack != [] and precedence(i) <= precedence(stack[-1])):\n",
    "                    pf.append(stack.pop())\n",
    "                stack.append(i)\n",
    "        elif i == '(':\n",
    "            stack.append(i)\n",
    "        elif i == ')':\n",
    "            while(stack[-1] != '('):\n",
    "                pf.append(stack.pop())\n",
    "            stack.pop()\n",
    "        else:\n",
    "            pf.append(i)\n",
    "    while(stack != []):\n",
    "        pf.append(stack.pop())\n",
    "    return pf"
   ]
  },
  {
   "cell_type": "code",
   "execution_count": 5,
   "metadata": {},
   "outputs": [],
   "source": [
    "def getIncidences(s,d,n):\n",
    "    if isinstance(s,str):\n",
    "        try:\n",
    "            return d[s]\n",
    "        except:\n",
    "            return np.zeros(n,dtype=bool)\n",
    "    else:\n",
    "        return s"
   ]
  },
  {
   "cell_type": "markdown",
   "metadata": {},
   "source": [
    "# Query Evaluation"
   ]
  },
  {
   "cell_type": "code",
   "execution_count": 6,
   "metadata": {},
   "outputs": [],
   "source": [
    "def queryEval(query,d,n):\n",
    "    pf = postfix(query.split())\n",
    "    stack = []\n",
    "    opList = ['AND','OR','NOT']\n",
    "    if len(pf) == 1:\n",
    "        return getIncidences(pf[0],d,n)\n",
    "    for i in pf:\n",
    "        if i in opList:\n",
    "            if i == 'NOT':\n",
    "                op = stack.pop()\n",
    "                r = ~getIncidences(op,d,n)\n",
    "            elif i == 'AND':\n",
    "                op1 = getIncidences(stack.pop(),d,n)\n",
    "                op2 = getIncidences(stack.pop(),d,n)\n",
    "                r = op1&op2\n",
    "            else:\n",
    "                op1 = getIncidences(stack.pop(),d,n)\n",
    "                op2 = getIncidences(stack.pop(),d,n)\n",
    "                r = op1|op2\n",
    "            stack.append(r)\n",
    "        else:\n",
    "            stack.append(i)\n",
    "    return stack.pop()"
   ]
  },
  {
   "cell_type": "code",
   "execution_count": 7,
   "metadata": {},
   "outputs": [
    {
     "name": "stdout",
     "output_type": "stream",
     "text": [
      "Enter the no. of documents : 4\n",
      "Enter the doc - 1 name : doc1.txt\n",
      "Enter the doc - 2 name : doc2.txt\n",
      "Enter the doc - 3 name : doc3.txt\n",
      "Enter the doc - 4 name : doc4.txt\n",
      "the generated matrix is : \n",
      " [[0 1 0 1]\n",
      " [1 1 1 1]\n",
      " [1 0 0 0]\n",
      " [0 1 0 0]\n",
      " [0 0 0 1]\n",
      " [0 0 1 0]\n",
      " [0 0 1 0]\n",
      " [1 0 0 1]\n",
      " [1 0 0 0]\n",
      " [0 1 0 0]\n",
      " [0 0 1 0]\n",
      " [0 0 1 0]\n",
      " [1 1 1 0]\n",
      " [1 1 1 0]\n",
      " [0 0 1 0]\n",
      " [1 0 0 1]\n",
      " [0 1 0 0]\n",
      " [0 0 0 1]\n",
      " [1 0 0 0]\n",
      " [0 1 0 0]\n",
      " [0 0 1 0]\n",
      " [0 0 0 1]\n",
      " [0 0 1 0]\n",
      " [1 0 0 0]\n",
      " [0 0 0 1]\n",
      " [0 1 0 0]\n",
      " [0 1 1 1]\n",
      " [0 0 1 0]\n",
      " [0 0 0 1]]\n"
     ]
    }
   ],
   "source": [
    "# n = 4\n",
    "# l = np.array([\"doc1.txt\",\"doc2.txt\",\"doc3.txt\",\"doc4.txt\"])\n",
    "n = int(input(\"Enter the no. of documents : \"))\n",
    "l = []\n",
    "for i in range(n):\n",
    "    l.append(input(\"Enter the doc - \"+str(i+1)+\" name : \"))\n",
    "l = np.array(l)\n",
    "TIM,terms = termIncidenceMatrix(l,n)\n",
    "print(\"the generated matrix is : \\n\",TIM.astype(int)) \n",
    "d = {}\n",
    "for i in range(len(terms)):\n",
    "    d[terms[i]] = TIM[i]\n"
   ]
  },
  {
   "cell_type": "code",
   "execution_count": 8,
   "metadata": {
    "scrolled": false
   },
   "outputs": [
    {
     "name": "stdout",
     "output_type": "stream",
     "text": [
      "\n",
      "The term insurance matrix have been created.\n",
      "Rules for entering the query:\n",
      " 1.There should be a single space between operand and operator\n",
      " 2.There should be space before And after '(' , ')'\n",
      " 3.Boolean operators should be in capital and words in small letters.\n",
      "Enter the query:\n",
      "words AND pen OR NOT sheet\n",
      "['doc2.txt' 'doc3.txt']\n"
     ]
    }
   ],
   "source": [
    "rules = \"\"\"\n",
    "The term insurance matrix have been created.\n",
    "Rules for entering the query:\n",
    " 1.There should be a single space between operand and operator\n",
    " 2.There should be space before And after '(' , ')'\n",
    " 3.Boolean operators should be in capital and words in small letters.\n",
    "Enter the query:\n",
    "\"\"\"\n",
    "query = input(rules)\n",
    "resultDoc = queryEval(query,d,n).astype(bool)\n",
    "if(len(l[resultDoc]) == 0):\n",
    "    print(\"No matching documents\")\n",
    "else:\n",
    "    print(l[resultDoc])"
   ]
  }
 ],
 "metadata": {
  "kernelspec": {
   "display_name": "Python 3 (ipykernel)",
   "language": "python",
   "name": "python3"
  },
  "language_info": {
   "codemirror_mode": {
    "name": "ipython",
    "version": 3
   },
   "file_extension": ".py",
   "mimetype": "text/x-python",
   "name": "python",
   "nbconvert_exporter": "python",
   "pygments_lexer": "ipython3",
   "version": "3.11.5"
  }
 },
 "nbformat": 4,
 "nbformat_minor": 2
}
