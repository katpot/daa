{
 "cells": [
  {
   "cell_type": "markdown",
   "id": "71a28297",
   "metadata": {},
   "source": [
    "# Naïve Bayes classification"
   ]
  },
  {
   "cell_type": "code",
   "execution_count": 62,
   "id": "60a67d09",
   "metadata": {},
   "outputs": [],
   "source": [
    "import numpy as np\n",
    "import pandas as pd\n",
    "data=pd.read_csv(\"golf_df.csv\")\n",
    "col=list(data.columns)\n",
    "def makecounts(l):\n",
    "    q=list(set(l))\n",
    "    c=[]\n",
    "    for i in q:\n",
    "        c.append(l.count(i))\n",
    "    return [q,c]\n",
    "arr=[]\n",
    "for i in col:\n",
    "    l=list(data[i])\n",
    "    arr.append(makecounts(l))"
   ]
  },
  {
   "cell_type": "code",
   "execution_count": 64,
   "id": "c9e54a74",
   "metadata": {},
   "outputs": [
    {
     "name": "stdout",
     "output_type": "stream",
     "text": [
      "Select appropriate option for Outlook\n",
      "1-->overcast\n",
      "2-->rainy\n",
      "3-->sunny\n",
      "Enter option:3\n",
      "Select appropriate option for Temperature\n",
      "1-->hot\n",
      "2-->cool\n",
      "3-->mild\n",
      "Enter option:1\n",
      "Select appropriate option for Humidity\n",
      "1-->normal\n",
      "2-->high\n",
      "Enter option:2\n",
      "Select appropriate option for Windy\n",
      "1-->False\n",
      "2-->True\n",
      "Enter option:1\n",
      "\n",
      "\n",
      "\n",
      "For given input\n",
      "input= ['sunny', 'hot', 'high', False] \n",
      "decision for the value - Play  is no\n"
     ]
    }
   ],
   "source": [
    "inp=[]\n",
    "for i in range(len(col)-1):\n",
    "    print('Select appropriate option for',col[i])\n",
    "    for j in range(len(arr[i][0])):\n",
    "        print(j+1,arr[i][0][j],sep='-->')\n",
    "    x=int(input(\"Enter option:\"))\n",
    "    inp.append(arr[i][0][x-1])\n",
    "print('\\n\\n')\n",
    "data.set_index(['Play']).sort_index()\n",
    "Po=[]\n",
    "for i in range(len(arr[-1][1])):\n",
    "    Po.append(arr[-1][1][i]/sum(arr[-1][1]))\n",
    "fin=[]\n",
    "for i in range(len(Po)):\n",
    "    l=[]\n",
    "    for j in range(len(inp)):\n",
    "        des=list(data[col[-1]])\n",
    "        ref=list(data[col[j]])\n",
    "        c=0\n",
    "        for k in range(len(des)):\n",
    "            if ref[k]==inp[j] and des[k]==arr[-1][0][i]:\n",
    "                c+=1\n",
    "        l.append(c)\n",
    "    fin.append(l)\n",
    "    fin[i]=np.prod(np.array(fin[i])/arr[-1][1][i])*Po[i]\n",
    "print('For given input\\ninput=',inp,\n",
    "      '\\ndecision for the value -',col[-1],\n",
    "      ' is',arr[-1][0][fin.index(max(fin))])"
   ]
  }
 ],
 "metadata": {
  "kernelspec": {
   "display_name": "Python 3 (ipykernel)",
   "language": "python",
   "name": "python3"
  },
  "language_info": {
   "codemirror_mode": {
    "name": "ipython",
    "version": 3
   },
   "file_extension": ".py",
   "mimetype": "text/x-python",
   "name": "python",
   "nbconvert_exporter": "python",
   "pygments_lexer": "ipython3",
   "version": "3.11.5"
  }
 },
 "nbformat": 4,
 "nbformat_minor": 5
}
