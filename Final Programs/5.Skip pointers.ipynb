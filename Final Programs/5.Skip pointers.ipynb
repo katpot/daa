{
 "cells": [
  {
   "cell_type": "code",
   "execution_count": 3,
   "id": "5c66ee13",
   "metadata": {},
   "outputs": [
    {
     "name": "stdout",
     "output_type": "stream",
     "text": [
      "After intrersection :  [4, 12, 72]\n"
     ]
    }
   ],
   "source": [
    "import math\n",
    "\n",
    "def SkipIntersect(p1,p2):\n",
    "    ans = []\n",
    "    i = 0;j = 0\n",
    "    l1 = len(p1);l2 = len(p2)\n",
    "    skip1 = math.floor(math.sqrt(len(p1)))\n",
    "    skip2 = math.floor(math.sqrt(len(p2)))\n",
    "    while(i<l1 and j<l2):\n",
    "        if p1[i] == p2[j]:\n",
    "            ans.append(p1[i])\n",
    "            i+=1\n",
    "            j+=1\n",
    "        elif p1[i] < p2[j]:\n",
    "            while(i%skip1 == 0 and i+skip1 <= l1-1 and p1[i+skip1] <= p2[j]):\n",
    "                    i+=skip1\n",
    "            else:\n",
    "                i+=1\n",
    "        else:\n",
    "            while(j%skip2 == 0 and j+skip2 <= l2-1 and p2[j+skip2] <= p1[i]):\n",
    "                    j+=skip2\n",
    "            else:\n",
    "                j+=1\n",
    "    return ans\n",
    "p1 = [1,2,3,4,9,12,18,37,72,93,103,109,135,143,147,150]\n",
    "p2 = [4,5,12,19,35,70,71,72,104]\n",
    "print(\"After intrersection : \",SkipIntersect(p1,p2))"
   ]
  }
 ],
 "metadata": {
  "kernelspec": {
   "display_name": "Python 3 (ipykernel)",
   "language": "python",
   "name": "python3"
  },
  "language_info": {
   "codemirror_mode": {
    "name": "ipython",
    "version": 3
   },
   "file_extension": ".py",
   "mimetype": "text/x-python",
   "name": "python",
   "nbconvert_exporter": "python",
   "pygments_lexer": "ipython3",
   "version": "3.11.5"
  }
 },
 "nbformat": 4,
 "nbformat_minor": 5
}
