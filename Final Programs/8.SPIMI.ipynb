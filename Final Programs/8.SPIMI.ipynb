{
 "cells": [
  {
   "cell_type": "markdown",
   "id": "15fd098e",
   "metadata": {},
   "source": []
  },
  {
   "cell_type": "markdown",
   "id": "06dc9172",
   "metadata": {},
   "source": [
    "# SPIMI implementation"
   ]
  },
  {
   "cell_type": "code",
   "execution_count": 1,
   "id": "2b913b4b",
   "metadata": {},
   "outputs": [],
   "source": [
    "import nltk\n",
    "import os\n",
    "import copy as cp\n",
    "import collections as c\n",
    "import numpy as np\n",
    "import pandas as pd\n",
    "import pickle"
   ]
  },
  {
   "cell_type": "code",
   "execution_count": 2,
   "id": "3a573474",
   "metadata": {},
   "outputs": [],
   "source": [
    "from nltk.corpus import stopwords\n",
    "sw=set(stopwords.words('english'))"
   ]
  },
  {
   "cell_type": "code",
   "execution_count": 5,
   "id": "af66cca7",
   "metadata": {},
   "outputs": [],
   "source": [
    "p='Cranfield Data Set'\n",
    "s=os.listdir(p)\n",
    "di='opdirforSPIMI'\n",
    "par='C:/Users/exam2/Desktop/IR/'\n",
    "path=os.path.join(par, di) \n",
    "os.mkdir(path)"
   ]
  },
  {
   "cell_type": "code",
   "execution_count": 12,
   "id": "bacd45da",
   "metadata": {},
   "outputs": [],
   "source": [
    "a=1\n",
    "docid={}\n",
    "d=cp.deepcopy(s)\n",
    "x=[]\n",
    "invind={}\n",
    "for i in s:\n",
    "    block=[]\n",
    "    f=set(open(p+'/'+i,'r').read().split())\n",
    "    f=f.difference(sw) #all stopwords removed\n",
    "    f=sorted(list(f))\n",
    "    if i not in docid.keys():\n",
    "        docid[i]=a\n",
    "        a+=1\n",
    "        for j in f:\n",
    "            block.append([j,docid[i]])\n",
    "    for j in range(len(block)):\n",
    "        if block[j][0] not in invind.keys():\n",
    "            invind[block[j][0]]=[]\n",
    "        l=invind[block[j][0]]\n",
    "        l.append(block[j][1])\n",
    "        invind[block[j][0]]=l"
   ]
  },
  {
   "cell_type": "code",
   "execution_count": 16,
   "id": "7c9e9be7",
   "metadata": {},
   "outputs": [],
   "source": [
    "# print(invind)\n",
    "name='C:/Users/exam2/Desktop/IR/opdirforSPIMI/'+'SPIMIoutput.pkl'\n",
    "with open(name, 'wb') as zx:\n",
    "    pickle.dump(invind, zx)"
   ]
  }
 ],
 "metadata": {
  "kernelspec": {
   "display_name": "Python 3 (ipykernel)",
   "language": "python",
   "name": "python3"
  },
  "language_info": {
   "codemirror_mode": {
    "name": "ipython",
    "version": 3
   },
   "file_extension": ".py",
   "mimetype": "text/x-python",
   "name": "python",
   "nbconvert_exporter": "python",
   "pygments_lexer": "ipython3",
   "version": "3.11.3"
  }
 },
 "nbformat": 4,
 "nbformat_minor": 5
}
