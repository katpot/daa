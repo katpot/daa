{
 "cells": [
  {
   "cell_type": "markdown",
   "id": "e0c09e39",
   "metadata": {},
   "source": [
    "# Importing Modules"
   ]
  },
  {
   "cell_type": "code",
   "execution_count": 1,
   "id": "6c39f951",
   "metadata": {},
   "outputs": [],
   "source": [
    "import re"
   ]
  },
  {
   "cell_type": "markdown",
   "id": "075173ce",
   "metadata": {},
   "source": [
    "# Postfix Building"
   ]
  },
  {
   "cell_type": "code",
   "execution_count": 2,
   "id": "e0eb1351",
   "metadata": {},
   "outputs": [],
   "source": [
    "def precedence(op):\n",
    "    if op == 'NOT':\n",
    "        return 3\n",
    "    elif op == 'AND':\n",
    "        return 2\n",
    "    elif op == 'OR':\n",
    "        return 1\n",
    "    else:\n",
    "        return 0\n",
    "\n",
    "def postfix(l):\n",
    "    pf = []\n",
    "    stack = []\n",
    "    opList = ['AND','OR','NOT']\n",
    "    for i in l:\n",
    "        if i in opList:\n",
    "            if stack == []:\n",
    "                stack.append(i)\n",
    "            else:\n",
    "                while(stack != [] and precedence(i) <= precedence(stack[-1])):\n",
    "                    pf.append(stack.pop())\n",
    "                stack.append(i)\n",
    "        elif i == '(':\n",
    "            stack.append(i)\n",
    "        elif i == ')':\n",
    "            while(stack[-1] != '('):\n",
    "                pf.append(stack.pop())\n",
    "            stack.pop()\n",
    "        else:\n",
    "            pf.append(i)\n",
    "    while(stack != []):\n",
    "        pf.append(stack.pop())\n",
    "    return pf"
   ]
  },
  {
   "cell_type": "code",
   "execution_count": 3,
   "id": "8a6ed26e",
   "metadata": {},
   "outputs": [],
   "source": [
    "def getPostings(s,d):\n",
    "    if isinstance(s,str):\n",
    "        try:\n",
    "            return d[s]\n",
    "        except:\n",
    "            return set()\n",
    "    else:\n",
    "        return s"
   ]
  },
  {
   "cell_type": "markdown",
   "id": "0fbbf6c9",
   "metadata": {},
   "source": [
    "# Query Evaluation"
   ]
  },
  {
   "cell_type": "code",
   "execution_count": 4,
   "id": "aad15fd5",
   "metadata": {},
   "outputs": [],
   "source": [
    "def queryEval(query,d,l):\n",
    "    pf = postfix(query.split())\n",
    "    stack = []\n",
    "    opList = ['AND','OR','NOT']\n",
    "    if len(pf) == 1:\n",
    "        return getPostings(pf[0],d)\n",
    "    else:\n",
    "        for i in pf:\n",
    "            if i in opList:\n",
    "                if i == 'NOT':\n",
    "                    op = stack.pop()\n",
    "                    r = set(l).difference(getPostings(op,d))\n",
    "                elif i == 'AND':\n",
    "                    op1 = getPostings(stack.pop(),d)\n",
    "                    op2 = getPostings(stack.pop(),d)\n",
    "                    r = op1.intersection(op2)\n",
    "                else:\n",
    "                    op1 = getPostings(stack.pop(),d)\n",
    "                    op2 = getPostings(stack.pop(),d)\n",
    "                    r = op1.union(op2)\n",
    "                stack.append(r)\n",
    "            else:\n",
    "                stack.append(i)\n",
    "        return set() if len(stack) == 0 else stack.pop()"
   ]
  },
  {
   "cell_type": "markdown",
   "id": "916d467e",
   "metadata": {},
   "source": [
    "# Index construction"
   ]
  },
  {
   "cell_type": "code",
   "execution_count": 7,
   "id": "ca1426a1",
   "metadata": {},
   "outputs": [
    {
     "name": "stdout",
     "output_type": "stream",
     "text": [
      "Enter the documents : doc1.txt doc2.txt doc3.txt doc4.txt\n",
      "{'ink': {'doc4.txt', 'doc1.txt'}, 'things': {'doc1.txt'}, 'ideas': {'doc3.txt'}, 'the': {'doc3.txt'}, 'and': {'doc4.txt', 'doc1.txt', 'doc2.txt', 'doc3.txt'}, 'make': {'doc1.txt'}, 'on': {'doc3.txt'}, 'a': {'doc4.txt', 'doc2.txt'}, 'so': {'doc2.txt'}, 'with': {'doc4.txt', 'doc2.txt', 'doc3.txt'}, 'words': {'doc3.txt'}, 'beautiful': {'doc1.txt'}, 'such': {'doc1.txt'}, 'tell': {'doc4.txt'}, 'flow': {'doc3.txt'}, 'world': {'doc4.txt'}, 'sweet': {'doc2.txt'}, 'shape': {'doc3.txt'}, 'story': {'doc4.txt'}, 'together': {'doc2.txt'}, 'create': {'doc4.txt'}, 'meet': {'doc2.txt'}, 'paper': {'doc1.txt', 'doc2.txt', 'doc3.txt'}, 'bond': {'doc2.txt'}, 'out': {'doc3.txt'}, 'sheet': {'doc4.txt', 'doc1.txt'}, 'to': {'doc4.txt'}, 'pen': {'doc1.txt', 'doc2.txt', 'doc3.txt'}, 'take': {'doc3.txt'}}\n"
     ]
    }
   ],
   "source": [
    "docs = []\n",
    "terms = set()\n",
    "l = input(\"Enter the documents : \").split()\n",
    "# l = [\"doc1.txt\",\"doc2.txt\",\"doc3.txt\",\"doc4.txt\"]\n",
    "\n",
    "for i in l:\n",
    "    file = open(i,'r').read().lower()\n",
    "    content = re.sub(\"[^a-z0-9]\",\" \",file).split()\n",
    "    terms.update(content)\n",
    "    docs.append(set(content))\n",
    "    \n",
    "d = {}\n",
    "for i in terms:\n",
    "    post_list = []\n",
    "    for j in range(len(docs)):\n",
    "        if i in docs[j]:\n",
    "            post_list.append(l[j])\n",
    "    d[i] = set(post_list)\n",
    "print(d)\n"
   ]
  },
  {
   "cell_type": "markdown",
   "id": "c4f9623f",
   "metadata": {},
   "source": [
    "# query reading"
   ]
  },
  {
   "cell_type": "code",
   "execution_count": 6,
   "id": "7d77d907",
   "metadata": {
    "scrolled": true
   },
   "outputs": [
    {
     "name": "stdout",
     "output_type": "stream",
     "text": [
      "\n",
      "The inverted index have been created.\n",
      "Rules for entering the query:\n",
      " 1.There should be a single space between operand and operator\n",
      " 2.There should be space before And after '(' , ')'\n",
      " 3.Boolean operators should be in capital and words in small letters.\n",
      "Enter the query:\n",
      "ink AND sheet OR sweet\n",
      "{'doc4.txt', 'doc1.txt', 'doc2.txt'}\n"
     ]
    }
   ],
   "source": [
    "rules = \"\"\"\n",
    "The inverted index have been created.\n",
    "Rules for entering the query:\n",
    " 1.There should be a single space between operand and operator\n",
    " 2.There should be space before And after '(' , ')'\n",
    " 3.Boolean operators should be in capital and words in small letters.\n",
    "Enter the query:\n",
    "\"\"\"\n",
    "query = input(rules)\n",
    "# resultDoc = queryEval(\"drug AND op\",d,l)\n",
    "resultDoc = queryEval(query,d,l)\n",
    "if(len(resultDoc) == 0):\n",
    "    print(\"No relevant documents\")\n",
    "else:\n",
    "    print(resultDoc)"
   ]
  }
 ],
 "metadata": {
  "kernelspec": {
   "display_name": "Python 3 (ipykernel)",
   "language": "python",
   "name": "python3"
  },
  "language_info": {
   "codemirror_mode": {
    "name": "ipython",
    "version": 3
   },
   "file_extension": ".py",
   "mimetype": "text/x-python",
   "name": "python",
   "nbconvert_exporter": "python",
   "pygments_lexer": "ipython3",
   "version": "3.11.5"
  }
 },
 "nbformat": 4,
 "nbformat_minor": 5
}
