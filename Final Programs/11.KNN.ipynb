{
 "cells": [
  {
   "cell_type": "markdown",
   "id": "09964538",
   "metadata": {},
   "source": [
    "# K Nearest Neighbour"
   ]
  },
  {
   "cell_type": "code",
   "execution_count": 1,
   "id": "f433ad31",
   "metadata": {},
   "outputs": [],
   "source": [
    "import nltk\n",
    "import os\n",
    "import copy as cp\n",
    "import collections as c\n",
    "import numpy as np\n",
    "import pandas as pd\n",
    "import pickle"
   ]
  },
  {
   "cell_type": "code",
   "execution_count": 2,
   "id": "5eb938d6",
   "metadata": {},
   "outputs": [],
   "source": [
    "from nltk.corpus import stopwords\n",
    "sw=set(stopwords.words('english'))"
   ]
  },
  {
   "cell_type": "code",
   "execution_count": 3,
   "id": "fddfadc8",
   "metadata": {},
   "outputs": [],
   "source": [
    "p='Cranfield Data Set'\n",
    "s=os.listdir(p)"
   ]
  },
  {
   "cell_type": "code",
   "execution_count": 4,
   "id": "cc457ced",
   "metadata": {},
   "outputs": [],
   "source": [
    "def distance(a,b):\n",
    "    a=np.array(a)\n",
    "    b=np.array(b)\n",
    "    return np.sqrt(np.dot(a-b,a-b))"
   ]
  },
  {
   "cell_type": "code",
   "execution_count": 5,
   "id": "0209783a",
   "metadata": {},
   "outputs": [],
   "source": [
    "d=cp.deepcopy(s)\n",
    "x=[]\n",
    "for i in s:\n",
    "    f=set(open(p+'/'+i,'r').read().split())\n",
    "    f=f.difference(sw) #all stopwords removed\n",
    "    f=sorted(list(f))\n",
    "    x.append(f)\n",
    "y=sorted(set(sum(x,[])))"
   ]
  },
  {
   "cell_type": "code",
   "execution_count": 6,
   "id": "f51fb552",
   "metadata": {},
   "outputs": [],
   "source": [
    "tcm=[]\n",
    "for i in range(len(s)):\n",
    "    m=[]\n",
    "    freq=c.Counter(x[i])\n",
    "    for j in y:\n",
    "        if j in x[i]:\n",
    "            m.append(freq[j])\n",
    "        else:\n",
    "            m.append(0)\n",
    "    tcm.append(m)"
   ]
  },
  {
   "cell_type": "code",
   "execution_count": 7,
   "id": "46c1af3d",
   "metadata": {},
   "outputs": [],
   "source": [
    "tf=[]\n",
    "for i in tcm:\n",
    "    temp=[]\n",
    "    for j in i:\n",
    "        if j!=0:\n",
    "            temp.append(round(1+np.log(j),2))\n",
    "        else:\n",
    "            temp.append(0)\n",
    "    tf.append(temp)"
   ]
  },
  {
   "cell_type": "code",
   "execution_count": 8,
   "id": "b9b28557",
   "metadata": {},
   "outputs": [],
   "source": [
    "idf=[]\n",
    "for i in y:\n",
    "    n=0\n",
    "    for j in range(len(d)):\n",
    "        if i in x[j]:\n",
    "            n+=1\n",
    "    if n!=0:\n",
    "        idf.append(round(np.log(len(d)/n),2))\n",
    "    else:\n",
    "        idf.append(0)"
   ]
  },
  {
   "cell_type": "code",
   "execution_count": 9,
   "id": "130b5d32",
   "metadata": {},
   "outputs": [],
   "source": [
    "tf_idf=[]\n",
    "for i in tf:\n",
    "    temp=[]\n",
    "    for j in range(len(i)):\n",
    "        tfidf=i[j]*idf[j]\n",
    "        temp.append(tfidf)\n",
    "    tf_idf.append(temp)"
   ]
  },
  {
   "cell_type": "code",
   "execution_count": 10,
   "id": "29c63429",
   "metadata": {},
   "outputs": [
    {
     "name": "stdout",
     "output_type": "stream",
     "text": [
      "Enter the document path:Cranfield Data Set/cranfield0002.txt\n"
     ]
    }
   ],
   "source": [
    "query_doc=input(\"Enter the document path:\")\n",
    "freq=c.Counter(query_doc)\n",
    "inp=[]\n",
    "for i in y:\n",
    "    if i in query_doc:\n",
    "        inp.append(freq[i])\n",
    "    else:\n",
    "        inp.append(0)\n",
    "vals=[]\n",
    "for i in range(len(s)):\n",
    "    vals.append(distance(tf_idf[i],inp))\n",
    "sort_vals=sorted(vals,reverse=True)\n",
    "ranked_order=[]\n",
    "for i in sort_vals:\n",
    "    ind=vals.index(i)\n",
    "    vals.pop(ind)\n",
    "    ranked_order.append(s[ind])\n",
    "    s.pop(ind)"
   ]
  },
  {
   "cell_type": "code",
   "execution_count": 25,
   "id": "37f21aad",
   "metadata": {},
   "outputs": [
    {
     "name": "stdout",
     "output_type": "stream",
     "text": [
      "Enter number of classes to be classified into to feed data:700\n",
      "Enter K :10\n",
      "The new data belongs to  42\n"
     ]
    }
   ],
   "source": [
    "h=int(input(\"Enter number of classes to be classified into to feed data:\"))\n",
    "vote=[0]*h\n",
    "feed_data=np.array_split(d,h)\n",
    "k=int(input(\"Enter K :\"))\n",
    "for i in range(h):\n",
    "    for j in range(k):\n",
    "        if ranked_order[j] in feed_data[i]:\n",
    "            vote[i]+=1\n",
    "print(\"The new data belongs to \",vote.index(max(vote))+1)"
   ]
  }
 ],
 "metadata": {
  "kernelspec": {
   "display_name": "Python 3 (ipykernel)",
   "language": "python",
   "name": "python3"
  },
  "language_info": {
   "codemirror_mode": {
    "name": "ipython",
    "version": 3
   },
   "file_extension": ".py",
   "mimetype": "text/x-python",
   "name": "python",
   "nbconvert_exporter": "python",
   "pygments_lexer": "ipython3",
   "version": "3.10.9"
  }
 },
 "nbformat": 4,
 "nbformat_minor": 5
}
